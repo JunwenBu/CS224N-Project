{
 "cells": [
  {
   "cell_type": "markdown",
   "metadata": {},
   "source": [
    "# ROUGE Metrics\n",
    "A sample showed how to test rouge"
   ]
  },
  {
   "cell_type": "code",
   "execution_count": 5,
   "metadata": {
    "scrolled": true
   },
   "outputs": [
    {
     "name": "stdout",
     "output_type": "stream",
     "text": [
      "Requirement already satisfied: en_core_web_sm==2.2.5 from https://github.com/explosion/spacy-models/releases/download/en_core_web_sm-2.2.5/en_core_web_sm-2.2.5.tar.gz#egg=en_core_web_sm==2.2.5 in c:\\anaconda3\\envs\\sum\\lib\\site-packages (2.2.5)\n",
      "symbolic link created for C:\\anaconda3\\envs\\sum\\lib\\site-packages\\spacy\\data\\en <<===>> C:\\anaconda3\\envs\\sum\\lib\\site-packages\\en_core_web_sm\n",
      "[!] Skipping model package dependencies and setting `--no-deps`. You don't seem\n",
      "to have the spaCy package itself installed (maybe because you've built from\n",
      "source?), so installing the model dependencies would cause spaCy to be\n",
      "downloaded, which probably isn't what you want. If the model package has other\n",
      "dependencies, you'll have to install them manually.\n",
      "[+] Download and installation successful\n",
      "You can now load the model via spacy.load('en_core_web_sm')\n",
      "[+] Linking successful\n",
      "C:\\anaconda3\\envs\\sum\\lib\\site-packages\\en_core_web_sm -->\n",
      "C:\\anaconda3\\envs\\sum\\lib\\site-packages\\spacy\\data\\en\n",
      "You can now load the model via spacy.load('en')\n"
     ]
    }
   ],
   "source": [
    "import pandas as pd\n",
    "import re\n",
    "import nltk\n",
    "from nltk.corpus import stopwords\n",
    "!python -m spacy download en"
   ]
  },
  {
   "cell_type": "code",
   "execution_count": 6,
   "metadata": {
    "scrolled": true
   },
   "outputs": [
    {
     "name": "stdout",
     "output_type": "stream",
     "text": [
      "(1383743, 2)\n"
     ]
    },
    {
     "data": {
      "text/html": [
       "<div>\n",
       "<style scoped>\n",
       "    .dataframe tbody tr th:only-of-type {\n",
       "        vertical-align: middle;\n",
       "    }\n",
       "\n",
       "    .dataframe tbody tr th {\n",
       "        vertical-align: top;\n",
       "    }\n",
       "\n",
       "    .dataframe thead th {\n",
       "        text-align: right;\n",
       "    }\n",
       "</style>\n",
       "<table border=\"1\" class=\"dataframe\">\n",
       "  <thead>\n",
       "    <tr style=\"text-align: right;\">\n",
       "      <th></th>\n",
       "      <th>headline</th>\n",
       "      <th>text</th>\n",
       "    </tr>\n",
       "  </thead>\n",
       "  <tbody>\n",
       "    <tr>\n",
       "      <th>0</th>\n",
       "      <td>Sell yourself first.</td>\n",
       "      <td>Before doing anything else, stop and sum up y...</td>\n",
       "    </tr>\n",
       "    <tr>\n",
       "      <th>1</th>\n",
       "      <td>Read the classics before 1600.</td>\n",
       "      <td>Reading the classics is the very first thing ...</td>\n",
       "    </tr>\n",
       "    <tr>\n",
       "      <th>2</th>\n",
       "      <td>Join online artist communities.</td>\n",
       "      <td>Depending on what scale you intend to sell yo...</td>\n",
       "    </tr>\n",
       "    <tr>\n",
       "      <th>3</th>\n",
       "      <td>Make yourself public.</td>\n",
       "      <td>Get yourself out there as best as you can by ...</td>\n",
       "    </tr>\n",
       "    <tr>\n",
       "      <th>4</th>\n",
       "      <td>Blog about your artwork.</td>\n",
       "      <td>Given the hundreds of free blogging websites,...</td>\n",
       "    </tr>\n",
       "  </tbody>\n",
       "</table>\n",
       "</div>"
      ],
      "text/plain": [
       "                          headline  \\\n",
       "0             Sell yourself first.   \n",
       "1   Read the classics before 1600.   \n",
       "2  Join online artist communities.   \n",
       "3            Make yourself public.   \n",
       "4         Blog about your artwork.   \n",
       "\n",
       "                                                text  \n",
       "0   Before doing anything else, stop and sum up y...  \n",
       "1   Reading the classics is the very first thing ...  \n",
       "2   Depending on what scale you intend to sell yo...  \n",
       "3   Get yourself out there as best as you can by ...  \n",
       "4   Given the hundreds of free blogging websites,...  "
      ]
     },
     "execution_count": 6,
     "metadata": {},
     "output_type": "execute_result"
    }
   ],
   "source": [
    "wikihow = pd.read_csv(\"data\\wikihow.csv\")\n",
    "print(wikihow.shape)\n",
    "wikihow.head()"
   ]
  },
  {
   "cell_type": "markdown",
   "metadata": {},
   "source": [
    "## Output some data samples"
   ]
  },
  {
   "cell_type": "code",
   "execution_count": 7,
   "metadata": {},
   "outputs": [
    {
     "name": "stdout",
     "output_type": "stream",
     "text": [
      "Take care of your spiritual needs.\n",
      " Take time to do things you normally do for your spiritual self, such as praying or meditating. These activities can have a calming effect in a stressful situation. Of course, not everyone considers themselves a spiritual person, and that may be the case with you. Nonetheless, it can still help to take a few minutes each day to just be or sit in silence.\n"
     ]
    }
   ],
   "source": [
    "summaries = wikihow['headline'].tolist()\n",
    "texts = wikihow['text'].tolist()\n",
    "\n",
    "sum1 = summaries[200]\n",
    "text1 = texts[200]\n",
    "print(sum1)\n",
    "print(text1)"
   ]
  },
  {
   "cell_type": "code",
   "execution_count": 8,
   "metadata": {},
   "outputs": [
    {
     "name": "stdout",
     "output_type": "stream",
     "text": [
      "b.online=(amod)=>profile\n",
      "a.profile=(dobj)=>bring\n",
      "<BasicElement: profile-[dobj]->bring>\n",
      "b.online=(amod)=>profile\n",
      "a.artist=(dobj)=>help\n",
      "<BasicElement: artist-[dobj]->help>\n",
      "a.list=(dobj)=>read\n",
      "<BasicElement: list-[dobj]->read>\n",
      "b.want=(relcl)=>classics\n",
      "a.way=(dobj)=>build\n",
      "<BasicElement: way-[dobj]->build>\n",
      "b.read=(relcl)=>way\n",
      "a.list=(dobj)=>read\n",
      "<BasicElement: list-[dobj]->read>\n",
      "a.classics=(dobj)=>read\n",
      "<BasicElement: classics-[dobj]->read>\n",
      "b.online=(amod)=>art\n",
      "b.online=(amod)=>communities\n",
      "a.communities=(dobj)=>join\n",
      "<BasicElement: communities-[dobj]->join>\n",
      "a.time=(dobj)=>spend\n",
      "<BasicElement: time-[dobj]->spend>\n",
      "b.digital=(conj)=>advertising\n",
      "a.blog=(nsubj)=>keep\n",
      "<BasicElement: blog-[nsubj]->keep>\n",
      "a.blog=(dobj)=>keep\n",
      "<BasicElement: blog-[dobj]->keep>\n",
      "b.own=(amod)=>blog\n",
      "a.list=(dobj)=>make\n",
      "<BasicElement: list-[dobj]->make>\n",
      "b.want=(relcl)=>purpose\n",
      "b.new=(amod)=>person\n",
      "b.good=(amod)=>person\n",
      "a.list=(dobj)=>create\n",
      "<BasicElement: list-[dobj]->create>\n",
      "b.potential=(amod)=>customers\n",
      "b.potential=(amod)=>person\n",
      "a.customers=(dobj)=>talk\n",
      "<BasicElement: customers-[dobj]->talk>\n",
      "b.good=(amod)=>friend\n",
      "b.good=(amod)=>pictures\n",
      "a.pictures=(dobj)=>take\n",
      "<BasicElement: pictures-[dobj]->take>\n",
      "b.moral=(amod)=>art\n",
      "a.art=(dobj)=>license\n",
      "<BasicElement: art-[dobj]->license>\n",
      "a.site=(dobj)=>ask\n",
      "<BasicElement: site-[dobj]->ask>\n",
      "a.site=(dobj)=>use\n",
      "<BasicElement: site-[dobj]->use>\n",
      "b.own=(amod)=>site\n",
      "a.option=(dobj)=>consider\n",
      "<BasicElement: option-[dobj]->consider>\n",
      "b.own=(amod)=>site\n",
      "a.site=(dobj)=>creating\n",
      "<BasicElement: site-[dobj]->create>\n",
      "b.good=(amod)=>name\n",
      "b.own=(amod)=>attitude\n",
      "b.good=(amod)=>name\n",
      "b.gradual=(amod)=>process\n",
      "a.lot=(dobj)=>sell\n",
      "<BasicElement: lot-[dobj]->sell>\n",
      "a.name=(dobj)=>name\n",
      "<BasicElement: name-[dobj]->name>\n",
      "a.time=(dobj)=>spend\n",
      "<BasicElement: time-[dobj]->spend>\n",
      "b.old=(amod)=>fat\n",
      "b.fat=(conj)=>fat\n",
      "b.old=(amod)=>side\n",
      "a.strengths=(dobj)=>examine\n",
      "<BasicElement: strengths-[dobj]->examine>\n",
      "a.friend=(dobj)=>pack\n",
      "<BasicElement: friend-[dobj]->pack>\n",
      "b.going=(relcl)=>friend\n",
      "b.good=(amod)=>friend\n",
      "b.weak=(amod)=>points\n",
      "a.passwords=(dobj)=>save\n",
      "<BasicElement: passwords-[dobj]->save>\n",
      "b.personal=(amod)=>information\n",
      "a.account=(dobj)=>create\n",
      "<BasicElement: account-[dobj]->create>\n",
      "b.new=(amod)=>nutrition\n",
      "b.new=(amod)=>food\n",
      "a.family=(dobj)=>help\n",
      "<BasicElement: family-[dobj]->help>\n",
      "b.good=(amod)=>nutrition\n",
      "b.good=(amod)=>look\n",
      "a.look=(dobj)=>take\n",
      "<BasicElement: look-[dobj]->take>\n",
      "ROUGE-1: 0.15582491582491584\n",
      "ROUGE-2: 0.0\n",
      "ROUGE-L: 0.1424915824915825\n",
      "ROUGE-BE: 0.02222222222222222\n"
     ]
    }
   ],
   "source": [
    "from sumeval.metrics.rouge import RougeCalculator\n",
    "\n",
    "refs = [\n",
    "\"sell yourself first \",\n",
    "\"read the classics before 1600 \",\n",
    "\"join online artist communities \",\n",
    "\"make yourself public \",\n",
    "\"blog about your artwork \",\n",
    "\"create a mailing list \",\n",
    "\"take good pictures \",\n",
    "\"be sure to properly license your art \",\n",
    "\"consider the option of creating your own site \",\n",
    "\"expect this to be a gradual process and do not expect to sell a lot right away \",\n",
    "\"understand what a stage name can do for you \",\n",
    "\"examine your strengths as a performer \",\n",
    "\"write down what your weak points are \",\n",
    "\"create a ticketmaster account \",\n",
    "\"take a good look at your food budget \",\n",
    "]\n",
    "\n",
    "sums = [\n",
    "\"think about what you want to bring a online profile or online profile to help your artist s artist \",\n",
    "\"read the list of the classics you want to build up a way to read the list of the classics \",\n",
    "\"know what you want to get a art of your art of the site of the online art of your community \",\n",
    "\"spend time with your advertising and digital style of the style of the style of the style of the style \",\n",
    "\"look for a blog or sales blog and sales words to keep a blog in your own blog \",\n",
    "\"make a list of the purpose you want to make a new person to be a good person \",\n",
    "\"talk to the potential customers of the potential person ’ s customers and be good to be a good friend \",\n",
    "\"help if you have a licensing art of the moral of the moral art of the moral of the rights \",\n",
    "\"ask your site about what you want to use your site to do something of your own site \",\n",
    "\"give yourself to be a good name for your own attitude of the artist s time to be a good name \",\n",
    "\"decide if you can name the name of the name of the brand of the brand of your name \",\n",
    "\"spend time with the old fat and fat in the old side of the booking of the fat \",\n",
    "\"learn to pack your friend to learn about the friend you are going to be a good friend \",\n",
    "\"save your passwords with a credit card or credit information if you can not have a personal information \",\n",
    "\"learn to cook with a new nutrition and new food to help your family and be a good nutrition \",\n",
    "]\n",
    "\n",
    "size = len(refs)\n",
    "rouge_1 = 0\n",
    "rouge_2 = 0\n",
    "rouge_l = 0\n",
    "rouge_be = 0\n",
    "rouge = RougeCalculator(stopwords=True, lang=\"en\")\n",
    "for refrence_summary, model_summary in zip(refs, sums):\n",
    "    rouge_1 += rouge.rouge_n(\n",
    "                summary=model_summary,\n",
    "                references=refrence_summary,\n",
    "                n=1)\n",
    "    rouge_2 += rouge.rouge_n(\n",
    "                summary=model_summary,\n",
    "                references=[refrence_summary],\n",
    "                n=2)\n",
    "    rouge_l += rouge.rouge_l(\n",
    "                summary=model_summary,\n",
    "                references=[refrence_summary])\n",
    "    # You need spaCy to calculate ROUGE-BE\n",
    "    rouge_be += rouge.rouge_be(\n",
    "                summary=model_summary,\n",
    "                references=[refrence_summary])\n",
    "    \n",
    "print(\"ROUGE-1: {}, ROUGE-2: {}, ROUGE-L: {}, ROUGE-BE: {}\".format(\n",
    "        rouge_1/size, rouge_2/size, rouge_l/size, rouge_be/size\n",
    "    ).replace(\", \", \"\\n\"))"
   ]
  }
 ],
 "metadata": {
  "kernelspec": {
   "display_name": "Python 3",
   "language": "python",
   "name": "python3"
  },
  "language_info": {
   "codemirror_mode": {
    "name": "ipython",
    "version": 3
   },
   "file_extension": ".py",
   "mimetype": "text/x-python",
   "name": "python",
   "nbconvert_exporter": "python",
   "pygments_lexer": "ipython3",
   "version": "3.7.6"
  }
 },
 "nbformat": 4,
 "nbformat_minor": 4
}
