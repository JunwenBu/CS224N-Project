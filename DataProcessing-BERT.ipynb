{
 "cells": [
  {
   "cell_type": "markdown",
   "metadata": {},
   "source": [
    "# Transfer Wikihow to stories"
   ]
  },
  {
   "cell_type": "markdown",
   "metadata": {},
   "source": [
    "The structure of the generated files:\n",
    "1. content.\n",
    "2. @highlight\n",
    "3. summary"
   ]
  },
  {
   "cell_type": "code",
   "execution_count": 2,
   "metadata": {},
   "outputs": [],
   "source": [
    "import sys\n",
    "import os\n",
    "import hashlib\n",
    "import struct\n",
    "import subprocess\n",
    "import collections\n",
    "import tensorflow as tf\n",
    "from tensorflow.core.example import example_pb2\n",
    "import nltk\n",
    "import pandas as pd\n",
    "import numpy as np\n",
    "import re\n",
    "from nltk.corpus import stopwords\n",
    "import time\n",
    "from tqdm import tqdm"
   ]
  },
  {
   "cell_type": "code",
   "execution_count": 3,
   "metadata": {
    "scrolled": true
   },
   "outputs": [],
   "source": [
    "wikihow = pd.read_csv(\"data/clean_wikihow_bert.csv\")\n",
    "summaries = wikihow['summary'].tolist()\n",
    "texts = wikihow['text'].tolist()"
   ]
  },
  {
   "cell_type": "code",
   "execution_count": 4,
   "metadata": {},
   "outputs": [
    {
     "name": "stdout",
     "output_type": "stream",
     "text": [
      "sell yourself first\n",
      "before doing anything else, stop and sum up yourself as an artist. now, think about how to translate that to an online profile. be it the few words, twitter allows you or an entire page of indulgence that your own website would allow you. bring out the most salient features of your creativity, your experience, your passion, and your reasons for painting. make it clear to readers why you are an artist who loves art, produces high quality art, and is a true champion of art. if you are not great with words, find a friend who can help you with this really important aspect of selling online – the establishment of your credibility and reliability.\n",
      "\n",
      "read the classics before 1600\n",
      "reading the classics is the very first thing you have to do to be well-read. if you want to build a solid foundation for your understanding of the books you read, then you cannot avoid some of the earliest plays, poems, and oral tales ever written down. remember that the novel did not really get popular until the 18th century, so you will not find novels on this list. without reading the poetry of homer or the plays of sophocles, you will not be able to call yourself well-read. here s a list to get you started:the epic of gilgamesh (unknown author) (18th – 17th century bce)the iliad and the odyssey by homer (850–750 bce, 8th century bce)\"the oresteia\" by aeschylus (458 bce)oedipus the king by sophocles (430 bce)medea by euripides (431 bce)aeneid by virgil (29–19 bce)one thousand and one nights (unknown author) (700–1500)beowulf (unknown author) (975-1025)the tale of genji by murasaki shikibu (11th century)the divine comedy by dante (1265–1321)the decameron by boccaccio (1349–53)the canterbury tales by chaucer (14th century)\n",
      "\n"
     ]
    }
   ],
   "source": [
    "contents = []\n",
    "titles = []\n",
    "\n",
    "# Here index '-1' to remove last ';' from raw text.\n",
    "for t, s in zip(texts, summaries):\n",
    "    if (not isinstance(t, float)) and (not isinstance(s, float)):\n",
    "        contents.append(t[:-1])\n",
    "        titles.append(s[:-1])\n",
    "\n",
    "for i in range(2):\n",
    "    print(titles[i])\n",
    "    print(contents[i])\n",
    "    print()"
   ]
  },
  {
   "cell_type": "code",
   "execution_count": 5,
   "metadata": {},
   "outputs": [
    {
     "name": "stdout",
     "output_type": "stream",
     "text": [
      "1212012 1212012\n"
     ]
    }
   ],
   "source": [
    "print(len(contents), len(titles))\n",
    "# range of the dataset\n",
    "si, ei = 0, 504000"
   ]
  },
  {
   "cell_type": "code",
   "execution_count": 6,
   "metadata": {},
   "outputs": [
    {
     "name": "stderr",
     "output_type": "stream",
     "text": [
      "100%|█████████████████████████████████████████████████████████████████████████| 504000/504000 [40:11<00:00, 209.02it/s]\n"
     ]
    }
   ],
   "source": [
    "for i in tqdm(range(si, ei)):\n",
    "    c, t = contents[i], titles[i]\n",
    "    with open('data\\\\raw_stories\\\\{}.story'.format(i), 'w', encoding='utf-8') as f:\n",
    "        f.write(c+'\\n\\n')\n",
    "        f.write('@highlight\\n\\n')\n",
    "        f.write(t)"
   ]
  }
 ],
 "metadata": {
  "kernelspec": {
   "display_name": "Python 3",
   "language": "python",
   "name": "python3"
  },
  "language_info": {
   "codemirror_mode": {
    "name": "ipython",
    "version": 3
   },
   "file_extension": ".py",
   "mimetype": "text/x-python",
   "name": "python",
   "nbconvert_exporter": "python",
   "pygments_lexer": "ipython3",
   "version": "3.7.6"
  }
 },
 "nbformat": 4,
 "nbformat_minor": 4
}
